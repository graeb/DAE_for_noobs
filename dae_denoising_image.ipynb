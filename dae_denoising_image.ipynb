{
 "cells": [
  {
   "attachments": {},
   "cell_type": "markdown",
   "metadata": {},
   "source": [
    "# DAE - Denoising Auto Encoder"
   ]
  },
  {
   "cell_type": "code",
   "execution_count": 24,
   "metadata": {},
   "outputs": [
    {
     "data": {
      "text/plain": [
       "<torch._C.Generator at 0x237176b0cb0>"
      ]
     },
     "execution_count": 24,
     "metadata": {},
     "output_type": "execute_result"
    }
   ],
   "source": [
    "import torch\n",
    "import torchvision\n",
    "import os\n",
    "import numpy as np\n",
    "import matplotlib as mpl\n",
    "import matplotlib.pyplot as plt\n",
    "import sklearn\n",
    "import copy\n",
    "import wandb\n",
    "\n",
    "torch.cuda.empty_cache()\n",
    "device = torch.device(\"cuda\" if torch.cuda.is_available() else \"cpu\")\n",
    "cpu_count = os.cpu_count()\n",
    "torch.manual_seed(123) # Set the random seed for reproducible results"
   ]
  },
  {
   "attachments": {},
   "cell_type": "markdown",
   "metadata": {},
   "source": [
    "# Custom transforms to add noise to images"
   ]
  },
  {
   "cell_type": "code",
   "execution_count": 25,
   "metadata": {},
   "outputs": [],
   "source": [
    "from typing import Any\n",
    "from sklearn.model_selection import train_test_split\n",
    "import torchvision.transforms as transforms\n",
    "import random\n",
    "\n",
    "\n",
    "class AddGaussianNoise():\n",
    "    def __init__(self, mean=0.0, std=1.0):\n",
    "        self.mean = mean\n",
    "        self.std = std\n",
    "\n",
    "    def __call__(self, img):\n",
    "        \"\"\"\n",
    "        Args:\n",
    "            img (PIL Image): Input image.\n",
    "\n",
    "        Returns:\n",
    "            PIL Image: Image with added noise.\n",
    "        \"\"\"\n",
    "        img = transforms.ToTensor()(img)\n",
    "        noise = torch.randn_like(img) * self.std + self.mean\n",
    "        noisy_img = img + noise\n",
    "        noisy_img = torch.clamp(noisy_img, 0, 1)  # Clip values to [0, 1]\n",
    "        return transforms.ToPILImage()(noisy_img)\n",
    "\n",
    "\n",
    "class AddSaltAndPepperNoise(object):\n",
    "    def __init__(self, prob=0.05):\n",
    "        self.prob = prob\n",
    "\n",
    "    def __call__(self, img):\n",
    "        \"\"\"\n",
    "        Args:\n",
    "            img (PIL Image): Input image.\n",
    "\n",
    "        Returns:\n",
    "            PIL Image: Image with salt and pepper noise.\n",
    "        \"\"\"\n",
    "        img = transforms.ToTensor()(img)\n",
    "        noisy_img = img.clone()\n",
    "\n",
    "        # Apply salt and pepper noise to the image\n",
    "        for i in range(img.size(1)):\n",
    "            for j in range(img.size(2)):\n",
    "                if random.random() < self.prob:\n",
    "                    # Pepper noise\n",
    "                    noisy_img[:, i, j] = 0.0\n",
    "                elif random.random() < self.prob:\n",
    "                    # Salt noise\n",
    "                    noisy_img[:, i, j] = 1.0\n",
    "\n",
    "        return transforms.ToPILImage()(noisy_img)"
   ]
  },
  {
   "cell_type": "code",
   "execution_count": 26,
   "metadata": {},
   "outputs": [],
   "source": [
    "batch_size = 128\n",
    "# training_data_noisy = torchvision.datasets.FashionMNIST(\n",
    "#     root='./data/',\n",
    "#     download=True,\n",
    "#     train=True,\n",
    "#     transform=transforms.Compose([\n",
    "#     AddSaltAndPepperNoise(prob=0.05),\n",
    "#     transforms.ToTensor(), # Transform back to Tensor\n",
    "#     torch.flatten,\n",
    "# ])\n",
    "# )\n",
    "\n",
    "training_data = torchvision.datasets.FashionMNIST(\n",
    "    root='./data/',\n",
    "    download=True,\n",
    "    train=True,\n",
    "    transform=transforms.Compose([\n",
    "    transforms.ToTensor(), # Transform back to Tensor\n",
    "    torch.flatten,\n",
    "])\n",
    ")\n",
    "\n",
    "testing_data = torchvision.datasets.FashionMNIST(\n",
    "    root='./data/',\n",
    "    train=False,\n",
    "    download=True,\n",
    "    transform=transforms.Compose([\n",
    "    AddSaltAndPepperNoise(prob=0.05),\n",
    "    transforms.ToTensor(),\n",
    "    torch.flatten, # Transform back to Tensor\n",
    "])\n",
    ")\n",
    "# X_train, y_train = training_data\n",
    "# X_test, y_test = test_data"
   ]
  },
  {
   "cell_type": "code",
   "execution_count": 27,
   "metadata": {},
   "outputs": [],
   "source": [
    "import random\n",
    "def add_noise(inputs,prob=0.1):\n",
    "     # noise = inputs+torch.rand_like(inputs)*noise_factor\n",
    "     # noise = torch.clip(noise,0.,1.)\n",
    "     noisy_img = inputs.clone()\n",
    "\n",
    "     for i in range(inputs.size(1)):\n",
    "          if random.random() < prob:\n",
    "               noisy_img[:, i] = 0.0\n",
    "          elif random.random() < prob:\n",
    "               noisy_img[:, i] = 1.0\n",
    "\n",
    "     return noisy_img\n"
   ]
  },
  {
   "cell_type": "code",
   "execution_count": 28,
   "metadata": {},
   "outputs": [],
   "source": [
    "# Transform Dataset into dataloader instance for batching and shuffling capabilities\n",
    "train_loader = torch.utils.data.DataLoader(training_data,\n",
    "                                          batch_size=batch_size,\n",
    "                                          shuffle=True,\n",
    "                                          num_workers=0, # cpu_count\n",
    "                                          )\n",
    "\n",
    "test_loader = torch.utils.data.DataLoader(testing_data,\n",
    "                                          batch_size=batch_size,\n",
    "                                          shuffle=True,\n",
    "                                          num_workers=0, # cpu_count\n",
    "                                          )"
   ]
  },
  {
   "attachments": {},
   "cell_type": "markdown",
   "metadata": {},
   "source": [
    "# Preview transformed images"
   ]
  },
  {
   "cell_type": "code",
   "execution_count": 29,
   "metadata": {},
   "outputs": [
    {
     "name": "stdout",
     "output_type": "stream",
     "text": [
      "Training data size :60000\n"
     ]
    },
    {
     "data": {
      "image/png": "[encoded data removed]",
      "text/plain": [
       "<Figure size 576x576 with 9 Axes>"
      ]
     },
     "metadata": {
      "needs_background": "light"
     },
     "output_type": "display_data"
    }
   ],
   "source": [
    "# Get image through dataset class\n",
    "print(f'Training data size :{len(training_data)}')\n",
    "labels_dataset = {'0' : 'T-shirt/top',\n",
    "'1' :'Trouser',\n",
    "'2'\t:'Pullover',\n",
    "'3'\t:'Dress',\n",
    "'4'\t:'Coat',\n",
    "'5'\t:'Sandal',\n",
    "'6'\t:'Shirt',\n",
    "'7'\t:'Sneaker',\n",
    "'8'\t:'Bag',\n",
    "'9'\t:'Ankle boot'}\n",
    "\n",
    "def view_data(X_train = train_loader):\n",
    "    data_view, labels_view = next(iter(X_train))\n",
    "    figure = plt.figure(figsize=(8, 8))\n",
    "    cols, rows = 3, 3\n",
    "    data_view = add_noise(data_view)\n",
    "    for i in range(1, cols * rows + 1):\n",
    "        imgs, labels = data_view.detach().numpy(), labels_view.detach().numpy()\n",
    "        img = imgs[i].reshape(28,28)\n",
    "        label = str(int(labels[i]))\n",
    "        figure.add_subplot(rows, cols, i)\n",
    "        # plt.title(labels_dataset[str(int(labels_view[i]))])\n",
    "        plt.title(labels_dataset[label])\n",
    "        plt.axis(\"off\")\n",
    "        plt.imshow(img.reshape(28, 28), cmap=\"gray\") # squeeze is needed otherwise we will get error / \n",
    "                                            # TypeError: Image.__init__() takes 1 positional argument but 2 were given\n",
    "    plt.show()\n",
    "    \n",
    "view_data()"
   ]
  },
  {
   "cell_type": "code",
   "execution_count": 30,
   "metadata": {},
   "outputs": [
    {
     "name": "stdout",
     "output_type": "stream",
     "text": [
      "Size of data is 784\n"
     ]
    }
   ],
   "source": [
    "data, _ = next(iter(train_loader))\n",
    "print(f'Size of data is {data.size(1)}')"
   ]
  },
  {
   "attachments": {},
   "cell_type": "markdown",
   "metadata": {},
   "source": [
    "# Define Model structure"
   ]
  },
  {
   "cell_type": "code",
   "execution_count": 31,
   "metadata": {},
   "outputs": [],
   "source": [
    "import torch.nn as nn\n",
    "\n",
    "class DAE(nn.Module):\n",
    "    def __init__(self):\n",
    "        super(DAE, self).__init__()\n",
    "        \n",
    "        self.encoder = nn.Sequential(\n",
    "            # nn.Flatten(),\n",
    "            # nn.Linear(784, 256),\n",
    "            # nn.ReLU(True),\n",
    "            # nn.Linear(256, 128),\n",
    "            # nn.ReLU(True),\n",
    "            # nn.Linear(128, 64),\n",
    "            # nn.ReLU(True)\n",
    "            nn.Linear(784, 1568),\n",
    "            nn.BatchNorm1d(1568),\n",
    "            nn.LeakyReLU(inplace=True),\n",
    "            nn.Linear(1568, 1568),\n",
    "            nn.LeakyReLU(inplace=True),\n",
    "        )\n",
    "        \n",
    "        self.decoder = nn.Sequential(\n",
    "            # nn.Flatten(),\n",
    "            # nn.Linear(64, 128),\n",
    "            # nn.ReLU(True),\n",
    "            # nn.Linear(128, 256),\n",
    "            # nn.ReLU(True),\n",
    "            # nn.Linear(256, 784),\n",
    "            # nn.Sigmoid()\n",
    "            nn.Linear(1568, 1568),\n",
    "            nn.BatchNorm1d(1568),\n",
    "            nn.LeakyReLU(inplace=True),\n",
    "            nn.Linear(1568, 784),\n",
    "            nn.LeakyReLU(inplace=True),\n",
    "            nn.Sigmoid()\n",
    "        )\n",
    "\n",
    "    def forward(self, x):\n",
    "        encoded = self.encoder(x)\n",
    "        decoded = self.decoder(encoded)\n",
    "        return decoded\n"
   ]
  },
  {
   "attachments": {},
   "cell_type": "markdown",
   "metadata": {},
   "source": [
    "# Training loop"
   ]
  },
  {
   "attachments": {},
   "cell_type": "markdown",
   "metadata": {},
   "source": [
    "Todo:\n",
    "- training loop is wrong\n",
    "- remove adding noise\n"
   ]
  },
  {
   "cell_type": "code",
   "execution_count": 32,
   "metadata": {},
   "outputs": [],
   "source": [
    "# Training loop\n",
    "# num_epochs = 10\n",
    "# for epoch in range(num_epochs):\n",
    "#     running_loss = 0.0\n",
    "    \n",
    "#     for images, _ in train_loader:\n",
    "#         # Flatten the input images\n",
    "#         images = images.view(images.size(0), -1).to(device)\n",
    "        \n",
    "#         # Add noise to the input images\n",
    "#         noisy_images = images + torch.randn_like(images) * 0.1\n",
    "        \n",
    "#         # Zero the gradients\n",
    "#         optimizer.zero_grad()\n",
    "        \n",
    "#         # Forward pass\n",
    "#         outputs = model(noisy_images)\n",
    "        \n",
    "#         # Compute the loss\n",
    "#         loss = criterion(outputs, images)\n",
    "        \n",
    "#         # Backward pass and optimization\n",
    "#         loss.backward()\n",
    "#         optimizer.step()\n",
    "        \n",
    "#         running_loss += loss.item()\n",
    "    \n",
    "#     epoch_loss = running_loss / len(train_loader)\n",
    "#     print(f\"Epoch [{epoch+1}/{num_epochs}], Loss: {epoch_loss:.4f}\")\n",
    "\n",
    "# print(\"Training finished.\")\n"
   ]
  },
  {
   "cell_type": "code",
   "execution_count": 33,
   "metadata": {},
   "outputs": [],
   "source": [
    "def train_model(model, train_loader, optimizer, criterion, num_epochs = 10,):\n",
    "    # best_model_wts = copy.deepcopy(model.state_dict())\n",
    "    # minimal_loss = 0.0\n",
    "\n",
    "    for epoch in range(num_epochs):\n",
    "\n",
    "        model.train()  # Set model to training mode\n",
    "\n",
    "        running_loss = 0.0\n",
    "\n",
    "        # Iterate over data.\n",
    "        # for normal_img, noisy_img in zip(train_loader, noisy_loader):\n",
    "        for train_img, _ in train_loader:\n",
    "            train_images = train_img.to(device)#noisy_img[0].view(noisy_img[0].size(0), -1).to(device)\n",
    "            noisy_images = add_noise(train_images).to(device)\n",
    "            #normal_images = normal_img.to(device)#normal_img[0].view(normal_img[0].size(0), -1).to(device)\n",
    "\n",
    "            # zero the parameter gradients\n",
    "            optimizer.zero_grad()\n",
    "\n",
    "            # forward\n",
    "            # track history if only in train\n",
    "            # with torch.set_grad_enabled(mode = True):\n",
    "            outputs = model(noisy_images)\n",
    "            # _, preds = torch.max(outputs, 1) # idk what is that for here\n",
    "            loss = criterion(outputs, train_images)\n",
    "\n",
    "                # backward + optimize only if in training phase\n",
    "\n",
    "            loss.backward()\n",
    "            optimizer.step()\n",
    "\n",
    "            # statistics\n",
    "            running_loss += loss.item() * train_images.size(0)\n",
    "            # scheduler.step(running_loss)\n",
    "            # running_corrects += torch.sum(preds == normal_images)\n",
    "\n",
    "        # epoch_loss = running_loss / dataset_sizes\n",
    "        # epoch_acc = running_corrects.double() / dataset_sizes\n",
    "        \n",
    "        # print(f'{epoch} Loss: {epoch_loss:.4f} Acc: {epoch_acc:.4f}')\n",
    "        epoch_loss = running_loss / len(train_loader)\n",
    "        print(f\"Epoch [{epoch+1}/{num_epochs}], Loss: {epoch_loss:.8f}\")\n",
    "        # wandb.log({\"Train loss\": epoch_loss}, epoch) # epoch_loss\n",
    "        # wandb.log({\"Train accuracy\": epoch_acc}, epoch) #epoch_acc\n",
    "\n",
    "        # if epoch_loss < minimal_loss:\n",
    "        #     minimal_loss = epoch_loss\n",
    "        #     best_model_wts = copy.deepcopy(model.state_dict())\n",
    "                \n",
    "    # model.load_state_dict(best_model_wts)\n",
    "    return model"
   ]
  },
  {
   "cell_type": "code",
   "execution_count": 34,
   "metadata": {},
   "outputs": [
    {
     "name": "stdout",
     "output_type": "stream",
     "text": [
      "Epoch [1/20], Loss: 11.94300172\n",
      "Epoch [2/20], Loss: 5.14464017\n",
      "Epoch [3/20], Loss: 4.01802749\n",
      "Epoch [4/20], Loss: 3.50548894\n",
      "Epoch [5/20], Loss: 3.18520771\n",
      "Epoch [6/20], Loss: 2.96660932\n",
      "Epoch [7/20], Loss: 2.80668256\n",
      "Epoch [8/20], Loss: 2.67280370\n",
      "Epoch [9/20], Loss: 2.57144564\n",
      "Epoch [10/20], Loss: 2.47964585\n",
      "Epoch [11/20], Loss: 2.39948075\n",
      "Epoch [12/20], Loss: 2.33085582\n",
      "Epoch [13/20], Loss: 2.26441564\n",
      "Epoch [14/20], Loss: 2.20693886\n",
      "Epoch [15/20], Loss: 2.15691188\n",
      "Epoch [16/20], Loss: 2.11446958\n",
      "Epoch [17/20], Loss: 2.06753807\n",
      "Epoch [18/20], Loss: 2.02851337\n",
      "Epoch [19/20], Loss: 1.99142054\n",
      "Epoch [20/20], Loss: 1.95549054\n"
     ]
    }
   ],
   "source": [
    "import torch\n",
    "import torch.nn as nn\n",
    "import torch.optim as optim\n",
    "import torchvision\n",
    "import torchvision.transforms as transforms\n",
    "\n",
    "# Define your denoising autoencoder model\n",
    "model = DAE().to(device)\n",
    "\n",
    "# Define loss function\n",
    "criterion = nn.MSELoss()\n",
    "\n",
    "# Define optimizer\n",
    "optimizer = optim.Adam(model.parameters(), lr=0.001)\n",
    "\n",
    "dataset_sizes = len(training_data)\n",
    "\n",
    "# scheduler = torch.optim.lr_scheduler.ReduceLROnPlateau(optimizer=optimizer, mode='max', factor=0.1, threshold_mode='rel', min_lr=0, eps=1e-08, verbose=False)\n",
    "\n",
    "DAE_model_training = train_model(model = model, train_loader=train_loader,\n",
    "                                optimizer=optimizer, num_epochs=20, criterion=criterion)"
   ]
  },
  {
   "cell_type": "code",
   "execution_count": 35,
   "metadata": {},
   "outputs": [
    {
     "name": "stdout",
     "output_type": "stream",
     "text": [
      "cuda\n",
      "Model on gpu : True\n"
     ]
    }
   ],
   "source": [
    "DAE_model_trained = DAE_model_training.eval() #.to(device)\n",
    "print(device)\n",
    "print(f'Model on gpu : {next(DAE_model_trained.parameters()).is_cuda}')\n"
   ]
  },
  {
   "cell_type": "code",
   "execution_count": 36,
   "metadata": {},
   "outputs": [
    {
     "name": "stdout",
     "output_type": "stream",
     "text": [
      "DAE(\n",
      "  (encoder): Sequential(\n",
      "    (0): Linear(in_features=784, out_features=1568, bias=True)\n",
      "    (1): BatchNorm1d(1568, eps=1e-05, momentum=0.1, affine=True, track_running_stats=True)\n",
      "    (2): LeakyReLU(negative_slope=0.01, inplace=True)\n",
      "    (3): Linear(in_features=1568, out_features=1568, bias=True)\n",
      "    (4): LeakyReLU(negative_slope=0.01, inplace=True)\n",
      "  )\n",
      "  (decoder): Sequential(\n",
      "    (0): Linear(in_features=1568, out_features=1568, bias=True)\n",
      "    (1): BatchNorm1d(1568, eps=1e-05, momentum=0.1, affine=True, track_running_stats=True)\n",
      "    (2): LeakyReLU(negative_slope=0.01, inplace=True)\n",
      "    (3): Linear(in_features=1568, out_features=784, bias=True)\n",
      "    (4): LeakyReLU(negative_slope=0.01, inplace=True)\n",
      "    (5): Sigmoid()\n",
      "  )\n",
      ")\n"
     ]
    }
   ],
   "source": [
    "print(DAE_model_trained)"
   ]
  },
  {
   "attachments": {},
   "cell_type": "markdown",
   "metadata": {},
   "source": [
    "# View how model works in action!"
   ]
  },
  {
   "cell_type": "code",
   "execution_count": 37,
   "metadata": {},
   "outputs": [],
   "source": [
    "# train_features, train_labels = next(iter(train_loader))\n",
    "# img_width = int(np.sqrt(train_features.size(1)))\n",
    "# print(f\"Feature batch shape: {train_features.size(1)}\")\n",
    "# print(f\"Labels batch shape: {train_labels.size(-1)}\")\n",
    "# img = train_features[0].view(1, img_width, img_width).squeeze()\n",
    "# print(f\"img shape: {img.size()}\")\n",
    "# label = str(int(train_labels[0])) # we do dtype conversions to get keys from labels dict\n",
    "# plt.imshow(img, cmap=\"gray\")\n",
    "# plt.show()\n",
    "# print(f\"Label: {labels.get(label)}\")"
   ]
  },
  {
   "cell_type": "code",
   "execution_count": 38,
   "metadata": {},
   "outputs": [],
   "source": [
    "# img, _  = list(test_loader)[-1]\n",
    "# test_features, test_labels = next(iter(test_loader))\n",
    "# print(test_features.shape)\n",
    "# out = DAE_model_trained(test_features.to(device))\n",
    "# img_width = int(np.sqrt(test_features.size(1)))\n",
    "# img = test_features[0].view(1, img_width, img_width).squeeze()\n",
    "\n",
    "\n"
   ]
  },
  {
   "cell_type": "code",
   "execution_count": 39,
   "metadata": {},
   "outputs": [
    {
     "data": {
      "image/png": "[encoded data removed]",
      "text/plain": [
       "<Figure size 432x288 with 20 Axes>"
      ]
     },
     "metadata": {
      "needs_background": "light"
     },
     "output_type": "display_data"
    }
   ],
   "source": [
    "# Dictionary that will store the different\n",
    "# images and outputs for various epochs\n",
    "outputs = {}\n",
    "\n",
    "\n",
    "# Reshaping into 1d vector\n",
    "# img = img.reshape(-1, 28 * 28)\n",
    "\n",
    "test_features, test_labels = next(iter(test_loader))\n",
    "DAE_model_trained = DAE_model_trained.cpu()\n",
    "\n",
    "out = DAE_model_trained(test_features) # out = DAE_model_trained(test_features.to(device))\n",
    "\n",
    "# Storing information in dictionary\n",
    "outputs['img'] = test_features\n",
    "outputs['out'] = out\n",
    "\n",
    "# Plotting reconstructed images\n",
    "# Initializing subplot counter\n",
    "counter = 1\n",
    "val = outputs['out'].detach().numpy()\n",
    "\n",
    "# Plotting first 10 images of the batch\n",
    "for idx in range(10):\n",
    "\tplt.subplot(2, 10, counter)\n",
    "\t# plt.title(\"Reconstructed \\n image\")\n",
    "\tplt.imshow(val[idx].reshape(28, 28), cmap='gray')\n",
    "\tplt.axis('off')\n",
    "\n",
    "\t# Incrementing subplot counter\n",
    "\tcounter += 1\n",
    "\n",
    "# Plotting original images\n",
    "\n",
    "# Plotting first 10 images\n",
    "for idx in range(10):\n",
    "\tval = outputs['img']\n",
    "\tplt.subplot(2, 10, counter)\n",
    "\tplt.imshow(val[idx].reshape(28, 28), cmap='gray')\n",
    "\t# plt.title(\"Original Image\")\n",
    "\tplt.axis('off')\n",
    "\n",
    "\t# Incrementing subplot counter\n",
    "\tcounter += 1\n",
    "\n",
    "plt.tight_layout()\n",
    "plt.show()\n"
   ]
  },
  {
   "cell_type": "code",
   "execution_count": 40,
   "metadata": {},
   "outputs": [],
   "source": [
    "torch.save(model.state_dict(), './models/model1')"
   ]
  }
 ],
 "metadata": {
  "kernelspec": {
   "display_name": "Python 3",
   "language": "python",
   "name": "python3"
  },
  "language_info": {
   "codemirror_mode": {
    "name": "ipython",
    "version": 3
   },
   "file_extension": ".py",
   "mimetype": "text/x-python",
   "name": "python",
   "nbconvert_exporter": "python",
   "pygments_lexer": "ipython3",
   "version": "3.10.2"
  },
  "orig_nbformat": 4
 },
 "nbformat": 4,
 "nbformat_minor": 2
}
