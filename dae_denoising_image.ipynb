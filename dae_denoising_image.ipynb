{
 "cells": [
  {
   "attachments": {},
   "cell_type": "markdown",
   "metadata": {},
   "source": [
    "# DAE - Denoising Auto Encoder"
   ]
  },
  {
   "cell_type": "code",
   "execution_count": 7,
   "metadata": {},
   "outputs": [],
   "source": [
    "# https://towardsdatascience.com/denoising-autoencoders-dae-how-to-use-neural-networks-to-clean-up-your-data-cd9c19bc6915\n",
    "import torch\n",
    "import torchvision\n",
    "import os\n",
    "import numpy as np\n",
    "import matplotlib as mpl\n",
    "import matplotlib.pyplot as plt\n",
    "import sklearn\n",
    "\n",
    "torch.cuda.empty_cache()\n",
    "device = torch.device(\"cuda\" if torch.cuda.is_available() else \"cpu\")"
   ]
  },
  {
   "cell_type": "code",
   "execution_count": 14,
   "metadata": {},
   "outputs": [],
   "source": [
    "from sklearn.model_selection import train_test_split\n",
    "cpu_count = os.cpu_count()\n",
    "mnist_data = torchvision.datasets.FashionMNIST('./data/', download=True, transform = torchvision.transforms.ToTensor())\n",
    "X_train, X_test = train_test_split(mnist_data, test_size=0.2, train_size=0.8, random_state=909)\n",
    "training_data_loader = torch.utils.data.DataLoader(X_train,\n",
    "                                          batch_size=16,\n",
    "                                          shuffle=True,\n",
    "                                          num_workers=cpu_count,\n",
    "                                          )\n",
    "testing_data_loader = torch.utils.data.DataLoader(X_test,\n",
    "                                          batch_size=16,\n",
    "                                          shuffle=True,\n",
    "                                          num_workers=cpu_count,\n",
    "                                          )"
   ]
  },
  {
   "cell_type": "code",
   "execution_count": 22,
   "metadata": {},
   "outputs": [
    {
     "name": "stdout",
     "output_type": "stream",
     "text": [
      "Training data size :3000\n",
      "Testing data size :750\n"
     ]
    },
    {
     "data": {
      "image/png": "[encoded data removed]",
      "text/plain": [
       "<Figure size 576x576 with 9 Axes>"
      ]
     },
     "metadata": {
      "needs_background": "light"
     },
     "output_type": "display_data"
    }
   ],
   "source": [
    "# Get image through dataset class\n",
    "from PIL import Image \n",
    "# img, label = mnist_data[123]\n",
    "# torchvision.transforms.functional.to_pil_image(img, mode=None)\n",
    "# print(f'Training data size :{type(X_train)}')\n",
    "print(f'Training data size :{len(training_data_loader)}')\n",
    "print(f'Testing data size :{len(testing_data_loader)}')\n",
    "labels = {'0' : 'T-shirt/top',\n",
    "'1' :'Trouser',\n",
    "'2'\t:'Pullover',\n",
    "'3'\t:'Dress',\n",
    "'4'\t:'Coat',\n",
    "'5'\t:'Sandal',\n",
    "'6'\t:'Shirt',\n",
    "'7'\t:'Sneaker',\n",
    "'8'\t:'Bag',\n",
    "'9'\t:'Ankle boot'}\n",
    "figure = plt.figure(figsize=(8, 8))\n",
    "cols, rows = 3, 3\n",
    "for i in range(1, cols * rows + 1):\n",
    "    sample_idx = torch.randint(len(X_train), size=(1,)).item()\n",
    "    img, label_id = X_train[sample_idx]\n",
    "    figure.add_subplot(rows, cols, i)\n",
    "    plt.title(labels[str(label_id)])\n",
    "    plt.axis(\"off\")\n",
    "    plt.imshow(img.squeeze(), cmap=\"gray\") # squeeze is needed otherwise we will get error / \n",
    "                                           # TypeError: Image.__init__() takes 1 positional argument but 2 were given\n",
    "plt.show()\n"
   ]
  },
  {
   "cell_type": "code",
   "execution_count": null,
   "metadata": {},
   "outputs": [],
   "source": [
    "train_features, train_labels = next(iter(data_loader))\n",
    "print(f\"Feature batch shape: {train_features.size()}\")\n",
    "print(f\"Labels batch shape: {train_labels.size()}\")\n",
    "img = train_features[0].squeeze()\n",
    "label = train_labels[0]\n",
    "plt.imshow(img, cmap=\"gray\")\n",
    "plt.show()\n",
    "print(f\"Label: {label}\")\n",
    "\n",
    "# examples = next(iter(data_loader))\n",
    "# for label, img  in enumerate(examples):\n",
    "#    plt.imshow(img.permute(1,2,0,3))\n",
    "#    plt.show()\n",
    "#    print(f\"Label: {label}\")\n",
    "\n",
    "\n"
   ]
  }
 ],
 "metadata": {
  "kernelspec": {
   "display_name": "Python 3",
   "language": "python",
   "name": "python3"
  },
  "language_info": {
   "codemirror_mode": {
    "name": "ipython",
    "version": 3
   },
   "file_extension": ".py",
   "mimetype": "text/x-python",
   "name": "python",
   "nbconvert_exporter": "python",
   "pygments_lexer": "ipython3",
   "version": "3.10.2"
  },
  "orig_nbformat": 4
 },
 "nbformat": 4,
 "nbformat_minor": 2
}
